{
 "cells": [
  {
   "cell_type": "code",
   "execution_count": 12,
   "metadata": {},
   "outputs": [],
   "source": [
    "my_dict = {\"name\":[\"Chirag\",\"Sapphire\",\"Ace\",\"Anushya\"], \"Age\":[69,6,8,28]}"
   ]
  },
  {
   "cell_type": "code",
   "execution_count": 8,
   "metadata": {},
   "outputs": [
    {
     "data": {
      "text/plain": [
       "['Chirag', 'Sapphire', 'Ace', 'Anushya']"
      ]
     },
     "execution_count": 8,
     "metadata": {},
     "output_type": "execute_result"
    }
   ],
   "source": [
    "my_dict[\"name\"]"
   ]
  },
  {
   "cell_type": "code",
   "execution_count": 15,
   "metadata": {},
   "outputs": [
    {
     "data": {
      "text/plain": [
       "{'name': ['Chirag', 'Sapphire', 'Ace', 'Anushya'],\n",
       " 'Age': [69, 6, 8, 28],\n",
       " 'contact': 8989776969}"
      ]
     },
     "execution_count": 15,
     "metadata": {},
     "output_type": "execute_result"
    }
   ],
   "source": [
    "my_dict"
   ]
  },
  {
   "cell_type": "code",
   "execution_count": 14,
   "metadata": {},
   "outputs": [],
   "source": [
    "my_dict[\"contact\"]=8989776969"
   ]
  },
  {
   "cell_type": "code",
   "execution_count": 25,
   "metadata": {},
   "outputs": [],
   "source": [
    "student= {\n",
    "    \"mscdsa\" : {\n",
    "        \"01\" : {\n",
    "            \"name\" : \"abin\",\n",
    "            \"phone\": \"9769857965\"\n",
    "        },\n",
    "        \"02\" :{\n",
    "            \"name\" : \"dawggg\",\n",
    "            \"phone\" : \"6969696969\"\n",
    "        }\n",
    "    }\n",
    "}\n"
   ]
  },
  {
   "cell_type": "code",
   "execution_count": 24,
   "metadata": {},
   "outputs": [
    {
     "name": "stdout",
     "output_type": "stream",
     "text": [
      "{'mscdsa': {'01': {'name': 'abin', 'phone': '9769857965'}, '02': {'name': 'dawggg', 'phone': '6969696969'}}}\n"
     ]
    }
   ],
   "source": [
    "print(student)"
   ]
  },
  {
   "cell_type": "code",
   "execution_count": 27,
   "metadata": {},
   "outputs": [
    {
     "name": "stdout",
     "output_type": "stream",
     "text": [
      "{'name': 'abin', 'phone': '9769857965'}\n"
     ]
    }
   ],
   "source": [
    "print(student[\"mscdsa\"][\"01\"])"
   ]
  },
  {
   "cell_type": "code",
   "execution_count": 28,
   "metadata": {},
   "outputs": [],
   "source": [
    "\n",
    "mscdsa = [\n",
    "    {\n",
    "             \"roll\":\"001\",\n",
    "            \"name\" : \"abin\",\n",
    "            \"phone\": \"9769857965\",\n",
    "            \"email\":\"abin@christ.in\",\n",
    "    },\n",
    "    {\n",
    "            \"roll\":\"oo2\",\n",
    "            \"name\" : \"dawggg\",\n",
    "            \"email\" : \"dawgggg@snoop.high\",\n",
    "    }\n",
    " ]"
   ]
  },
  {
   "cell_type": "code",
   "execution_count": 29,
   "metadata": {},
   "outputs": [
    {
     "name": "stdout",
     "output_type": "stream",
     "text": [
      "{'roll': '001', 'name': 'abin', 'phone': '9769857965', 'email': 'abin@christ.in'}\n",
      "001\tabin\t9769857965\tabin@christ.in\t\n",
      "{'roll': 'oo2', 'name': 'dawggg', 'email': 'dawgggg@snoop.high'}\n",
      "oo2\tdawggg\tdawgggg@snoop.high\t\n"
     ]
    }
   ],
   "source": [
    "for student in mscdsa:\n",
    "    print(student)\n",
    "    for key in student.keys():\n",
    "        print(student[key],end=\"\\t\")\n",
    "    print()"
   ]
  }
 ],
 "metadata": {
  "kernelspec": {
   "display_name": "Python 3",
   "language": "python",
   "name": "python3"
  },
  "language_info": {
   "codemirror_mode": {
    "name": "ipython",
    "version": 3
   },
   "file_extension": ".py",
   "mimetype": "text/x-python",
   "name": "python",
   "nbconvert_exporter": "python",
   "pygments_lexer": "ipython3",
   "version": "3.11.4"
  },
  "orig_nbformat": 4
 },
 "nbformat": 4,
 "nbformat_minor": 2
}
